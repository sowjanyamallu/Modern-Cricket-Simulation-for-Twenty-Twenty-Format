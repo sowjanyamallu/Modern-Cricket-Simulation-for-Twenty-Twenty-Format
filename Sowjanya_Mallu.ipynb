{
 "cells": [
  {
   "cell_type": "markdown",
   "metadata": {},
   "source": [
    "# Modern Cricket Simulation for Twenty Twenty format\n",
    "## ------------------------------------------------------------------------------------"
   ]
  },
  {
   "cell_type": "markdown",
   "metadata": {},
   "source": [
    "## Project Description:"
   ]
  },
  {
   "cell_type": "markdown",
   "metadata": {},
   "source": [
    "### As of now there is not even a single algorithm which can predict the next ball correctly in a cricket game. Even the most famous Don bradman cricket game was not implementing a proper next ball prediction algorithm. The project aims at predicting the outcome of the next ball in a real cricket game on a high level basis and to use this analysis as a base for implementing the next ball prediction algorithm for the cricket game.\n",
    "\n",
    "### Cricket Game: Cricket is a game played mostly in Asian, African countries and in Australia. The game consists of two teams competing for the victory. Each team has 11 players. It is played in 3 formats: 'TEST','ODI' and 'T20'. In this project the analysis is done considering the T20 format. The two sides will be performing either of two tasks every single time 1. Batting 2.Bowling and not both at the same time. In T20 format each team will be allowed to bat for 20 overs. Each over has 6 balls. Each ball has an outcome of runs, wicket, defensed, extras, boundaries.\n",
    "\n",
    "### We are considering these relations in the game to consider the outcome of every single ball\n",
    "#### 1. Batsman performance ( Features included : Batsman Name, Highscore, strike rate, number of boundaries, Average,Total_runs)\n",
    "#### 2.Bowler Performance (Features included: Bowler Name, Highscore, strike rate, Average,number_of_wickets)\n",
    "#### 3.Bowler batsman relation\n",
    "#### 4. Batsman and location \n"
   ]
  },
  {
   "cell_type": "markdown",
   "metadata": {},
   "source": [
    "### Data Preprocessing"
   ]
  },
  {
   "cell_type": "code",
   "execution_count": 179,
   "metadata": {},
   "outputs": [
    {
     "name": "stderr",
     "output_type": "stream",
     "text": [
      "C:\\Anaconda3\\lib\\site-packages\\ipykernel\\__main__.py:14: SettingWithCopyWarning: \n",
      "A value is trying to be set on a copy of a slice from a DataFrame.\n",
      "Try using .loc[row_indexer,col_indexer] = value instead\n",
      "\n",
      "See the caveats in the documentation: http://pandas.pydata.org/pandas-docs/stable/indexing.html#indexing-view-versus-copy\n",
      "C:\\Anaconda3\\lib\\site-packages\\ipykernel\\__main__.py:16: SettingWithCopyWarning: \n",
      "A value is trying to be set on a copy of a slice from a DataFrame.\n",
      "Try using .loc[row_indexer,col_indexer] = value instead\n",
      "\n",
      "See the caveats in the documentation: http://pandas.pydata.org/pandas-docs/stable/indexing.html#indexing-view-versus-copy\n",
      "C:\\Anaconda3\\lib\\site-packages\\ipykernel\\__main__.py:18: SettingWithCopyWarning: \n",
      "A value is trying to be set on a copy of a slice from a DataFrame.\n",
      "Try using .loc[row_indexer,col_indexer] = value instead\n",
      "\n",
      "See the caveats in the documentation: http://pandas.pydata.org/pandas-docs/stable/indexing.html#indexing-view-versus-copy\n",
      "C:\\Anaconda3\\lib\\site-packages\\ipykernel\\__main__.py:28: SettingWithCopyWarning: \n",
      "A value is trying to be set on a copy of a slice from a DataFrame\n",
      "\n",
      "See the caveats in the documentation: http://pandas.pydata.org/pandas-docs/stable/indexing.html#indexing-view-versus-copy\n",
      "C:\\Anaconda3\\lib\\site-packages\\ipykernel\\__main__.py:63: SettingWithCopyWarning: \n",
      "A value is trying to be set on a copy of a slice from a DataFrame\n",
      "\n",
      "See the caveats in the documentation: http://pandas.pydata.org/pandas-docs/stable/indexing.html#indexing-view-versus-copy\n",
      "C:\\Anaconda3\\lib\\site-packages\\ipykernel\\__main__.py:64: SettingWithCopyWarning: \n",
      "A value is trying to be set on a copy of a slice from a DataFrame\n",
      "\n",
      "See the caveats in the documentation: http://pandas.pydata.org/pandas-docs/stable/indexing.html#indexing-view-versus-copy\n",
      "C:\\Anaconda3\\lib\\site-packages\\ipykernel\\__main__.py:65: SettingWithCopyWarning: \n",
      "A value is trying to be set on a copy of a slice from a DataFrame\n",
      "\n",
      "See the caveats in the documentation: http://pandas.pydata.org/pandas-docs/stable/indexing.html#indexing-view-versus-copy\n",
      "C:\\Anaconda3\\lib\\site-packages\\ipykernel\\__main__.py:66: SettingWithCopyWarning: \n",
      "A value is trying to be set on a copy of a slice from a DataFrame\n",
      "\n",
      "See the caveats in the documentation: http://pandas.pydata.org/pandas-docs/stable/indexing.html#indexing-view-versus-copy\n",
      "C:\\Anaconda3\\lib\\site-packages\\ipykernel\\__main__.py:67: SettingWithCopyWarning: \n",
      "A value is trying to be set on a copy of a slice from a DataFrame\n",
      "\n",
      "See the caveats in the documentation: http://pandas.pydata.org/pandas-docs/stable/indexing.html#indexing-view-versus-copy\n"
     ]
    }
   ],
   "source": [
    "import glob\n",
    "import pandas as pd # importing pandas\n",
    "path =r'C:\\Users\\manoj\\Desktop\\MLproject\\Manojkumar_Gaddam\\Data\\T20' #Path to acces the Data\n",
    "allFiles = glob.glob(path + \"/*.csv\")#reading all files which are in csv format\n",
    "frame = pd.DataFrame()# creating a data frame\n",
    "list_ = []\n",
    "for file_ in allFiles:\n",
    "    data=pd.read_csv(file_,error_bad_lines=False,names=[\"type_of_information\",\"innings_or_info\",\"ball\",\n",
    "                                                        \"Batting_team\",\"Striker\",\"Non_striker\",\"Bowler\",\"Runs\",\n",
    "                                                        \"Extras\",\"wicket_type\",\"Batsman_out\"])\n",
    "                                                        # reading the data from a csv file assigning columns names\n",
    "    a=data[data.type_of_information==\"ball\"]# Filtering the data which contains only the Ball information\n",
    "    match_date=data[data.innings_or_info==\"date\"].ball.item()\n",
    "    a['date']=match_date # Assigning the match date to this dataframe\n",
    "    match_Venue=data[data.innings_or_info==\"venue\"].ball.item()                  \n",
    "    a['Venue']=match_Venue# Assigning the match Venue to this dataframe\n",
    "    match_city=data[data.innings_or_info==\"city\"].ball.item()\n",
    "    a['city']=match_city# Assigning the match city to this dataframe\n",
    "    list_.append(a)# appending all the values of a into a list\n",
    "frame = pd.concat(list_)# concating all the data in the file and saving the value to the frame\n",
    "frame['Total runs scored']=frame.groupby('Striker').Runs.cumsum()\n",
    "frame['Runs in match']=frame.groupby(['Striker','date'],axis=0).Runs.cumsum()\n",
    "frame['Total runs scored']=frame.groupby(['Striker'],axis=0).Runs.cumsum()\n",
    "frame['Runs_in_this_venue']=frame.groupby(['Striker','Venue'],axis=0).Runs.cumsum()\n",
    "\n",
    "frame[\"wickets\"]='None'\n",
    "frame.wickets[frame.wicket_type.isin(['caught', 'bowled', 'run out', 'stumped', 'retired hurt',\n",
    "       'lbw', 'caught and bowled', 'hit wicket'])]=1\n",
    "frame.wickets=frame.wickets.replace('None',0)\n",
    "frame['TotalWickets']=frame.groupby(['Bowler'],axis=0).wickets.cumsum()\n",
    "frame['TotalWickets_thisVenue']=frame.groupby(['Bowler','Venue'],axis=0).wickets.cumsum()\n",
    "frame['RunsAgainstthisBowler']=frame.groupby(['Bowler','Striker'],axis=0).Runs.cumsum()\n",
    "frame['RAB_venue']=frame.groupby(['Bowler','Striker','Venue'],axis=0).Runs.cumsum()\n",
    "frame['Dummyforballs']=1\n",
    "frame['NOB_BBC']=frame.groupby(['Bowler','Striker'],axis=0).Dummyforballs.cumsum()\n",
    "frame['NOB_venue']=frame.groupby(['Venue','Striker'],axis=0).Dummyforballs.cumsum()\n",
    "frame['NOB_BBC_venue']=frame.groupby(['Venue','Striker','Bowler'],axis=0).Dummyforballs.cumsum()\n",
    "frame['NOB_match']=frame.groupby(['date','Striker'],axis=0).Dummyforballs.cumsum()\n",
    "frame['NOB']=frame.groupby(['Striker'],axis=0).Dummyforballs.cumsum()\n",
    "frame['StrikeRate']=frame['Total runs scored']/frame.NOB\n",
    "frame['SAB']=frame.RunsAgainstthisBowler/frame.NOB_BBC\n",
    "frame['SAB_venue']=frame.RAB_venue/frame.NOB_BBC_venue\n",
    "frame['SR_match']=frame['Runs in match']/frame.NOB_match\n",
    "frame['Number_of_wickets_lost']=frame.groupby(['date','innings_or_info','Batting_team','Venue'],axis=0).wickets.cumsum()\n",
    "\n",
    "frame=frame.drop(['2010/02/13'],axis=0)\n",
    "\n",
    "path =r'C:\\Users\\manoj\\Desktop\\MLproject\\Manojkumar_Gaddam\\Data\\Bowler details.xlsx'# path in which bowler details are present\n",
    "Bowler_details=pd.read_excel(path,sheetname='Sheet1')#To read the data from the excel file.\n",
    "Bowler_details.Player=Bowler_details.Player.str.encode('ascii', 'ignore').str.decode('ascii').str.strip()# to remove the string xao\n",
    "\n",
    "path =r'C:\\Users\\manoj\\Desktop\\MLproject\\Manojkumar_Gaddam\\Data\\Batsman details.xlsx'# path in which batsman details are present\n",
    "Batsman_details=pd.read_excel(path,sheetname='Sheet1')#reading the data from the batsman details file\n",
    "Batsman_details.Player=Batsman_details.Player.str.encode('ascii', 'ignore').str.decode('ascii').str.strip()# to remove the string xao\n",
    "result = pd.merge(frame, Bowler_details, how='left', left_on='Bowler', right_on='Player')#merging the bowler details to the result file\n",
    "result = pd.merge(result, Batsman_details, how='left', left_on='Striker', right_on='Player')# merging the batsman details to the result file\n",
    "\n",
    "result['Powerplay']=pd.to_numeric(result.ball,errors='coerce')<6.0 # adding a new column to the result which conains boolean values\n",
    "result['No_of_boundaries']=result['4s']+result['6s'] #adding a new column to the result which conains the result of 4's and 6's\n",
    "result=result.fillna(value='0')# replaces the null values with na\n",
    "result[\"output\"]='None'#  creating a new column output with values none\n",
    "result.output[result.wicket_type.isin(['caught', 'bowled', 'run out', 'stumped', 'retired hurt',\n",
    "       'lbw', 'caught and bowled', 'hit wicket'])]=1# changing the values in the output based on the values in wiket_type\n",
    "result.output[result.Extras.isin([1, 4, 2, 3, 5])]=0# changing the value in the output based on the values in the extras\n",
    "result.output[result.Runs_x.isin([4,6])]=4# changing the value in the output based on the values of the runs equal to 4 and 6's\n",
    "result.output[~result.Runs_x.isin([0,4,6])]=3#changing the value in the output based on the values in which runs other than 0 4 and 6\n",
    "result.output[result.output=='None']=2# if there is none in the output then defensed will be placed in the output\n",
    "\n"
   ]
  },
  {
   "cell_type": "code",
   "execution_count": 186,
   "metadata": {},
   "outputs": [
    {
     "name": "stderr",
     "output_type": "stream",
     "text": [
      "C:\\Anaconda3\\lib\\site-packages\\pandas\\core\\generic.py:2701: SettingWithCopyWarning: \n",
      "A value is trying to be set on a copy of a slice from a DataFrame.\n",
      "Try using .loc[row_indexer,col_indexer] = value instead\n",
      "\n",
      "See the caveats in the documentation: http://pandas.pydata.org/pandas-docs/stable/indexing.html#indexing-view-versus-copy\n",
      "  self[name] = value\n"
     ]
    }
   ],
   "source": [
    "final=result[[ 'Total runs scored', 'Runs in match' ,'Runs_in_this_venue','output' ,'Powerplay', 'TotalWickets','TotalWickets_thisVenue', 'RunsAgainstthisBowler' , 'RAB_venue',  'StrikeRate', 'SAB', 'SAB_venue', 'SR_match','Number_of_wickets_lost']]\n",
    "# considering the required features in the result for pedicting the next ball and assigning the values to the f                                               \n",
    "final.output=final.output.astype(int)\n",
    "    "
   ]
  },
  {
   "cell_type": "code",
   "execution_count": 53,
   "metadata": {},
   "outputs": [],
   "source": [
    "final=final.rename(index=str,columns={\"4\":\"No of wickets>4\",\"SR_x\":\"strikerate_bowler\",\"SR_y\":\"strikerate_batsman\",\"Ave_x\":\"average_bowler\",\"Ave_y\":\"average_batsman\",\"Runs\":\"runsbowler\",\"Runs_y\":\"runs_batsman\"})\n",
    "# renaming the columns for a better understanding of the type of the column "
   ]
  },
  {
   "cell_type": "markdown",
   "metadata": {},
   "source": [
    "### Final Data"
   ]
  },
  {
   "cell_type": "code",
   "execution_count": 187,
   "metadata": {},
   "outputs": [
    {
     "name": "stdout",
     "output_type": "stream",
     "text": [
      "   Total runs scored  Runs in match  Runs_in_this_venue  output Powerplay  \\\n",
      "0                1.0            1.0                 1.0       3      True   \n",
      "1                0.0            0.0                 0.0       2      True   \n",
      "2                2.0            2.0                 2.0       3      True   \n",
      "\n",
      "   TotalWickets  TotalWickets_thisVenue  RunsAgainstthisBowler  RAB_venue  \\\n",
      "0             0                       0                    1.0        1.0   \n",
      "1             0                       0                    0.0        0.0   \n",
      "2             0                       0                    2.0        2.0   \n",
      "\n",
      "   StrikeRate  SAB  SAB_venue  SR_match  Number_of_wickets_lost  \n",
      "0         1.0  1.0        1.0       1.0                       0  \n",
      "1         0.0  0.0        0.0       0.0                       0  \n",
      "2         1.0  1.0        1.0       1.0                       0  \n"
     ]
    }
   ],
   "source": [
    "print(final.head(3))"
   ]
  },
  {
   "cell_type": "code",
   "execution_count": 182,
   "metadata": {},
   "outputs": [
    {
     "data": {
      "text/plain": [
       "(123062, 14)"
      ]
     },
     "execution_count": 182,
     "metadata": {},
     "output_type": "execute_result"
    }
   ],
   "source": [
    "#FINAL TABLE SIZE\n",
    "final.shape # gives the number of rows and columns"
   ]
  },
  {
   "cell_type": "code",
   "execution_count": 8,
   "metadata": {},
   "outputs": [
    {
     "name": "stderr",
     "output_type": "stream",
     "text": [
      "C:\\Anaconda3\\lib\\site-packages\\matplotlib\\axes\\_axes.py:519: UserWarning: No labelled objects found. Use label='...' kwarg on individual plots.\n",
      "  warnings.warn(\"No labelled objects found. \"\n"
     ]
    }
   ],
   "source": [
    "# Bar graph \n",
    "import matplotlib.pyplot as plt\n",
    "import numpy as np\n",
    "n = 5\n",
    "band_width=0.5\n",
    "x=final.output.value_counts()\n",
    "index = np.arange(n)\n",
    "rects1 = plt.bar(index, x,band_width,color='rgbyw')\n",
    "plt.xlabel('Output')\n",
    "plt.ylabel('No of balls')\n",
    "plt.xticks(index+(band_width/2), ('Runs', 'Defensed', 'Boundaries', 'Wicket', 'Extras'))\n",
    "plt.legend()\n",
    "plt.title('Histogram showing the type of the output and the number of balls of each type')\n",
    "plt.tight_layout()\n",
    "plt.show()"
   ]
  },
  {
   "cell_type": "code",
   "execution_count": 11,
   "metadata": {},
   "outputs": [
    {
     "name": "stderr",
     "output_type": "stream",
     "text": [
      "C:\\Anaconda3\\lib\\site-packages\\matplotlib\\axes\\_axes.py:519: UserWarning: No labelled objects found. Use label='...' kwarg on individual plots.\n",
      "  warnings.warn(\"No labelled objects found. \"\n"
     ]
    }
   ],
   "source": [
    "import matplotlib.pyplot as plt\n",
    "import numpy as np\n",
    "n = 5\n",
    "band_width=0.5\n",
    "x=final.output[final['Bowler']=='Z Khan'].value_counts()\n",
    "index = np.arange(n)\n",
    "rects1 = plt.bar(index, x,band_width,color='rgbyw')\n",
    "plt.xlabel('Output')\n",
    "plt.ylabel('No of balls')\n",
    "plt.xticks(index+(band_width/2), ('Runs', 'Defensed', 'Boundaries', 'Wicket', 'Extras'))\n",
    "plt.legend()\n",
    "plt.title('Output Varied Based on Bowler Z Khan(Bowler relation)')\n",
    "plt.tight_layout()\n",
    "plt.show()"
   ]
  },
  {
   "cell_type": "code",
   "execution_count": 13,
   "metadata": {},
   "outputs": [
    {
     "name": "stderr",
     "output_type": "stream",
     "text": [
      "C:\\Anaconda3\\lib\\site-packages\\matplotlib\\axes\\_axes.py:519: UserWarning: No labelled objects found. Use label='...' kwarg on individual plots.\n",
      "  warnings.warn(\"No labelled objects found. \"\n"
     ]
    }
   ],
   "source": [
    "import matplotlib.pyplot as plt\n",
    "import numpy as np\n",
    "n = 5\n",
    "band_width=0.5\n",
    "x=final.output[(final['Bowler']=='Z Khan') & (final.Striker=='GC Smith')].value_counts()\n",
    "index = np.arange(n)\n",
    "rects1 = plt.bar(index, x,band_width,color='rgbyw')\n",
    "plt.xlabel('Output')\n",
    "plt.ylabel('No of balls')\n",
    "plt.xticks(index+(band_width/2), ('Runs', 'Defensed', 'Boundaries', 'Wicket', 'Extras'))\n",
    "plt.legend()\n",
    "plt.tight_layout()\n",
    "plt.title('Output Varied Based on Bowler Z Khan and batsman GC Smith(Batsman-Bowler Realation)')\n",
    "plt.show()"
   ]
  },
  {
   "cell_type": "markdown",
   "metadata": {},
   "source": [
    "# Removing the features which cannot be used to fit the model"
   ]
  },
  {
   "cell_type": "code",
   "execution_count": 201,
   "metadata": {},
   "outputs": [],
   "source": [
    "\n",
    "data=final.drop(['output'],axis=1)\n",
    "#from sklearn import preprocessing\n",
    "#x_scaled=preprocessing.scale(data,with_mean=True)\n",
    "#g=x_scaled.as_matrix()\n",
    "#data=final\n",
    "data=data.replace('-',0)\n",
    "data=data.replace('na',0)\n",
    "from sklearn import preprocessing\n",
    "x_scaled=preprocessing.scale(data)\n",
    "g1=(final.output).as_matrix()"
   ]
  },
  {
   "cell_type": "code",
   "execution_count": 202,
   "metadata": {},
   "outputs": [],
   "source": [
    "x=[]\n",
    "x.append(x_scaled)\n",
    "x.append(g1)"
   ]
  },
  {
   "cell_type": "markdown",
   "metadata": {},
   "source": [
    "# Fitting Different Models to Choose The Best One"
   ]
  },
  {
   "cell_type": "markdown",
   "metadata": {},
   "source": [
    "### Gaussian Naive Bayes"
   ]
  },
  {
   "cell_type": "code",
   "execution_count": 207,
   "metadata": {},
   "outputs": [
    {
     "name": "stdout",
     "output_type": "stream",
     "text": [
      "[ 0.55317248  0.56849204  0.56272343  0.55570001  0.56569432  0.55806583\n",
      "  0.57131247  0.56505486  0.56087451  0.55892393]\n",
      "mean scores: 0.562001387025\n"
     ]
    }
   ],
   "source": [
    "from sklearn.naive_bayes import GaussianNB\n",
    "import numpy as np\n",
    "clf= GaussianNB()\n",
    "from sklearn.model_selection import cross_val_score\n",
    "from sklearn.feature_selection import SelectKBest\n",
    "from sklearn.feature_selection import f_classif\n",
    "X_new = SelectKBest(f_classif, k=7).fit_transform(x[0], x[1])\n",
    "scores = cross_val_score(clf,X_new, x[1],cv=10,scoring='accuracy')\n",
    "print(scores)\n",
    "print(\"mean scores:\",np.mean(scores))"
   ]
  },
  {
   "cell_type": "markdown",
   "metadata": {},
   "source": [
    "### Logistic Regression with newton-cg solver "
   ]
  },
  {
   "cell_type": "code",
   "execution_count": 206,
   "metadata": {},
   "outputs": [
    {
     "name": "stdout",
     "output_type": "stream",
     "text": [
      "0.610269774222\n"
     ]
    }
   ],
   "source": [
    "import numpy as np\n",
    "from sklearn.linear_model import LogisticRegression\n",
    "from sklearn.model_selection import cross_val_score\n",
    "from sklearn import metrics\n",
    "from sklearn.feature_selection import VarianceThreshold\n",
    "from sklearn.feature_selection import SelectKBest\n",
    "from sklearn.feature_selection import f_classif\n",
    "X_new = SelectKBest(f_classif, k=7).fit_transform(x[0], x[1])\n",
    "clf = LogisticRegression(solver ='newton-cg',multi_class='multinomial')\n",
    "scores = cross_val_score(clf,X_new, x[1],cv=10,scoring='accuracy')\n",
    "print(np.mean(scores))\n"
   ]
  },
  {
   "cell_type": "markdown",
   "metadata": {},
   "source": [
    "### Logistic Regression with sag solver"
   ]
  },
  {
   "cell_type": "code",
   "execution_count": 208,
   "metadata": {},
   "outputs": [
    {
     "name": "stdout",
     "output_type": "stream",
     "text": [
      "0.610269774222\n"
     ]
    }
   ],
   "source": [
    "import numpy as np\n",
    "from sklearn.linear_model import LogisticRegression\n",
    "from sklearn.model_selection import cross_val_score\n",
    "from sklearn import metrics\n",
    "from sklearn.feature_selection import SelectKBest\n",
    "from sklearn.feature_selection import f_classif\n",
    "X_new = SelectKBest(f_classif, k=7).fit_transform(x[0], x[1])\n",
    "\n",
    "\n",
    "clf = LogisticRegression(solver ='sag',multi_class='multinomial')#solver = sag is used which helps in running the data faster compared to newton-cg \n",
    "scores = cross_val_score(clf,X_new, x[1],cv=10,scoring='accuracy')\n",
    "print(np.mean(scores))"
   ]
  },
  {
   "cell_type": "markdown",
   "metadata": {},
   "source": [
    "### Decision tree algorithm"
   ]
  },
  {
   "cell_type": "code",
   "execution_count": 209,
   "metadata": {},
   "outputs": [
    {
     "name": "stdout",
     "output_type": "stream",
     "text": [
      "0.548089581377\n"
     ]
    }
   ],
   "source": [
    "from sklearn.tree import DecisionTreeClassifier\n",
    "clf = DecisionTreeClassifier(random_state=2)\n",
    "from sklearn.model_selection import cross_val_score\n",
    "from sklearn.feature_selection import SelectKBest\n",
    "from sklearn.feature_selection import f_classif\n",
    "X_new = SelectKBest(f_classif, k=7).fit_transform(x[0], x[1])\n",
    "\n",
    "scores = cross_val_score(clf,X_new, x[1],cv=5,scoring='accuracy')\n",
    "\n",
    "\n",
    "#print(scores)\n",
    "print(np.mean(scores))"
   ]
  },
  {
   "cell_type": "markdown",
   "metadata": {},
   "source": [
    "### Multinomial Naive Bayes"
   ]
  },
  {
   "cell_type": "code",
   "execution_count": 199,
   "metadata": {},
   "outputs": [
    {
     "name": "stdout",
     "output_type": "stream",
     "text": [
      "0.450130229583\n"
     ]
    }
   ],
   "source": [
    "from sklearn import preprocessing\n",
    "x_scaled1=preprocessing.normalize(data)\n",
    "g1=(final.output).as_matrix()\n",
    "x=[]\n",
    "x.append(x_scaled1)\n",
    "x.append(g1)\n",
    "from sklearn.feature_selection import SelectKBest\n",
    "from sklearn.feature_selection import chi2\n",
    "X_new = SelectKBest(chi2, k=10).fit_transform(x[0], x[1])\n",
    "\n",
    "from sklearn.naive_bayes import MultinomialNB\n",
    "clf= MultinomialNB(alpha=0.1)\n",
    "from sklearn.model_selection import cross_val_score\n",
    "scores = cross_val_score(clf,X_new, x[1],cv=10,scoring='accuracy')\n",
    "#print(scores)\n",
    "print(np.mean(scores))"
   ]
  },
  {
   "cell_type": "code",
   "execution_count": 195,
   "metadata": {},
   "outputs": [
    {
     "data": {
      "text/html": [
       "<div>\n",
       "<table border=\"1\" class=\"dataframe\">\n",
       "  <thead>\n",
       "    <tr style=\"text-align: right;\">\n",
       "      <th></th>\n",
       "      <th>Total runs scored</th>\n",
       "      <th>Runs in match</th>\n",
       "      <th>Runs_in_this_venue</th>\n",
       "      <th>Powerplay</th>\n",
       "      <th>TotalWickets</th>\n",
       "      <th>TotalWickets_thisVenue</th>\n",
       "      <th>RunsAgainstthisBowler</th>\n",
       "      <th>RAB_venue</th>\n",
       "      <th>StrikeRate</th>\n",
       "      <th>SAB</th>\n",
       "      <th>SAB_venue</th>\n",
       "      <th>SR_match</th>\n",
       "      <th>Number_of_wickets_lost</th>\n",
       "    </tr>\n",
       "  </thead>\n",
       "  <tbody>\n",
       "    <tr>\n",
       "      <th>0</th>\n",
       "      <td>1.0</td>\n",
       "      <td>1.0</td>\n",
       "      <td>1.0</td>\n",
       "      <td>True</td>\n",
       "      <td>0</td>\n",
       "      <td>0</td>\n",
       "      <td>1.0</td>\n",
       "      <td>1.0</td>\n",
       "      <td>1.000000</td>\n",
       "      <td>1.000000</td>\n",
       "      <td>1.000000</td>\n",
       "      <td>1.000000</td>\n",
       "      <td>0</td>\n",
       "    </tr>\n",
       "    <tr>\n",
       "      <th>1</th>\n",
       "      <td>0.0</td>\n",
       "      <td>0.0</td>\n",
       "      <td>0.0</td>\n",
       "      <td>True</td>\n",
       "      <td>0</td>\n",
       "      <td>0</td>\n",
       "      <td>0.0</td>\n",
       "      <td>0.0</td>\n",
       "      <td>0.000000</td>\n",
       "      <td>0.000000</td>\n",
       "      <td>0.000000</td>\n",
       "      <td>0.000000</td>\n",
       "      <td>0</td>\n",
       "    </tr>\n",
       "    <tr>\n",
       "      <th>2</th>\n",
       "      <td>2.0</td>\n",
       "      <td>2.0</td>\n",
       "      <td>2.0</td>\n",
       "      <td>True</td>\n",
       "      <td>0</td>\n",
       "      <td>0</td>\n",
       "      <td>2.0</td>\n",
       "      <td>2.0</td>\n",
       "      <td>1.000000</td>\n",
       "      <td>1.000000</td>\n",
       "      <td>1.000000</td>\n",
       "      <td>1.000000</td>\n",
       "      <td>0</td>\n",
       "    </tr>\n",
       "    <tr>\n",
       "      <th>3</th>\n",
       "      <td>2.0</td>\n",
       "      <td>2.0</td>\n",
       "      <td>2.0</td>\n",
       "      <td>True</td>\n",
       "      <td>0</td>\n",
       "      <td>0</td>\n",
       "      <td>2.0</td>\n",
       "      <td>2.0</td>\n",
       "      <td>0.666667</td>\n",
       "      <td>0.666667</td>\n",
       "      <td>0.666667</td>\n",
       "      <td>0.666667</td>\n",
       "      <td>0</td>\n",
       "    </tr>\n",
       "    <tr>\n",
       "      <th>4</th>\n",
       "      <td>2.0</td>\n",
       "      <td>2.0</td>\n",
       "      <td>2.0</td>\n",
       "      <td>True</td>\n",
       "      <td>0</td>\n",
       "      <td>0</td>\n",
       "      <td>2.0</td>\n",
       "      <td>2.0</td>\n",
       "      <td>0.500000</td>\n",
       "      <td>0.500000</td>\n",
       "      <td>0.500000</td>\n",
       "      <td>0.500000</td>\n",
       "      <td>0</td>\n",
       "    </tr>\n",
       "  </tbody>\n",
       "</table>\n",
       "</div>"
      ],
      "text/plain": [
       "   Total runs scored  Runs in match  Runs_in_this_venue Powerplay  \\\n",
       "0                1.0            1.0                 1.0      True   \n",
       "1                0.0            0.0                 0.0      True   \n",
       "2                2.0            2.0                 2.0      True   \n",
       "3                2.0            2.0                 2.0      True   \n",
       "4                2.0            2.0                 2.0      True   \n",
       "\n",
       "   TotalWickets  TotalWickets_thisVenue  RunsAgainstthisBowler  RAB_venue  \\\n",
       "0             0                       0                    1.0        1.0   \n",
       "1             0                       0                    0.0        0.0   \n",
       "2             0                       0                    2.0        2.0   \n",
       "3             0                       0                    2.0        2.0   \n",
       "4             0                       0                    2.0        2.0   \n",
       "\n",
       "   StrikeRate       SAB  SAB_venue  SR_match  Number_of_wickets_lost  \n",
       "0    1.000000  1.000000   1.000000  1.000000                       0  \n",
       "1    0.000000  0.000000   0.000000  0.000000                       0  \n",
       "2    1.000000  1.000000   1.000000  1.000000                       0  \n",
       "3    0.666667  0.666667   0.666667  0.666667                       0  \n",
       "4    0.500000  0.500000   0.500000  0.500000                       0  "
      ]
     },
     "execution_count": 195,
     "metadata": {},
     "output_type": "execute_result"
    }
   ],
   "source": [
    "data.head()"
   ]
  },
  {
   "cell_type": "markdown",
   "metadata": {},
   "source": [
    "## The best measures in our analysis is :\n",
    "## Total runs scored, Runs_in_this_venue.\n",
    "### As we are doing a multilevel classifiaction we cannot classify a feature as positive and negative.\n"
   ]
  },
  {
   "cell_type": "markdown",
   "metadata": {},
   "source": [
    "# Based on our analysis we feel that the logistic regression is the best fit for the Data.\n"
   ]
  }
 ],
 "metadata": {
  "anaconda-cloud": {},
  "kernelspec": {
   "display_name": "Python 3",
   "language": "python",
   "name": "python3"
  },
  "language_info": {
   "codemirror_mode": {
    "name": "ipython",
    "version": 3
   },
   "file_extension": ".py",
   "mimetype": "text/x-python",
   "name": "python",
   "nbconvert_exporter": "python",
   "pygments_lexer": "ipython3",
   "version": "3.6.4"
  }
 },
 "nbformat": 4,
 "nbformat_minor": 1
}
